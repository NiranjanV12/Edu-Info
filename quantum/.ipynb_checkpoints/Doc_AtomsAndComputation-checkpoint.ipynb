{
 "cells": [
  {
   "cell_type": "code",
   "execution_count": 1,
   "metadata": {},
   "outputs": [
    {
     "name": "stderr",
     "output_type": "stream",
     "text": [
      "Widget Javascript not detected.  It may not be installed or enabled properly.\n"
     ]
    },
    {
     "data": {
      "application/vnd.jupyter.widget-view+json": {
       "model_id": "4766f31955a64eefa0a82a8cfe1d06a5"
      }
     },
     "metadata": {},
     "output_type": "display_data"
    },
    {
     "name": "stderr",
     "output_type": "stream",
     "text": [
      "Widget Javascript not detected.  It may not be installed or enabled properly.\n"
     ]
    },
    {
     "data": {
      "application/vnd.jupyter.widget-view+json": {
       "model_id": "f2cfc07f026d4f2488e8e9a9f38d0961"
      }
     },
     "metadata": {},
     "output_type": "display_data"
    },
    {
     "name": "stdout",
     "output_type": "stream",
     "text": [
      "_________________________________________________________________________________________________________\n"
     ]
    },
    {
     "data": {
      "text/html": [
       "<pre style=\"word-wrap: normal;white-space: pre;background: #fff0;line-height: 1.1;font-family: &quot;Courier New&quot;,Courier,monospace\">           ░ ┌─┐                     \n",
       "  q_0: |0>─░─┤M├─────────────────────\n",
       "           ░ └╥┘┌─┐                  \n",
       "  q_1: |0>─░──╫─┤M├──────────────────\n",
       "           ░  ║ └╥┘┌─┐               \n",
       "  q_2: |0>─░──╫──╫─┤M├───────────────\n",
       "           ░  ║  ║ └╥┘┌─┐            \n",
       "  q_3: |0>─░──╫──╫──╫─┤M├────────────\n",
       "           ░  ║  ║  ║ └╥┘┌─┐         \n",
       "  q_4: |0>─░──╫──╫──╫──╫─┤M├─────────\n",
       "           ░  ║  ║  ║  ║ └╥┘┌─┐      \n",
       "  q_5: |0>─░──╫──╫──╫──╫──╫─┤M├──────\n",
       "           ░  ║  ║  ║  ║  ║ └╥┘┌─┐   \n",
       "  q_6: |0>─░──╫──╫──╫──╫──╫──╫─┤M├───\n",
       "           ░  ║  ║  ║  ║  ║  ║ └╥┘┌─┐\n",
       "  q_7: |0>─░──╫──╫──╫──╫──╫──╫──╫─┤M├\n",
       "           ░  ║  ║  ║  ║  ║  ║  ║ └╥┘\n",
       "meas: 0 8/════╩══╩══╩══╩══╩══╩══╩══╩═\n",
       "              0  1  2  3  4  5  6  7 </pre>"
      ],
      "text/plain": [
       "           ░ ┌─┐                     \n",
       "  q_0: |0>─░─┤M├─────────────────────\n",
       "           ░ └╥┘┌─┐                  \n",
       "  q_1: |0>─░──╫─┤M├──────────────────\n",
       "           ░  ║ └╥┘┌─┐               \n",
       "  q_2: |0>─░──╫──╫─┤M├───────────────\n",
       "           ░  ║  ║ └╥┘┌─┐            \n",
       "  q_3: |0>─░──╫──╫──╫─┤M├────────────\n",
       "           ░  ║  ║  ║ └╥┘┌─┐         \n",
       "  q_4: |0>─░──╫──╫──╫──╫─┤M├─────────\n",
       "           ░  ║  ║  ║  ║ └╥┘┌─┐      \n",
       "  q_5: |0>─░──╫──╫──╫──╫──╫─┤M├──────\n",
       "           ░  ║  ║  ║  ║  ║ └╥┘┌─┐   \n",
       "  q_6: |0>─░──╫──╫──╫──╫──╫──╫─┤M├───\n",
       "           ░  ║  ║  ║  ║  ║  ║ └╥┘┌─┐\n",
       "  q_7: |0>─░──╫──╫──╫──╫──╫──╫──╫─┤M├\n",
       "           ░  ║  ║  ║  ║  ║  ║  ║ └╥┘\n",
       "meas: 0 8/════╩══╩══╩══╩══╩══╩══╩══╩═\n",
       "              0  1  2  3  4  5  6  7 "
      ]
     },
     "execution_count": 1,
     "metadata": {},
     "output_type": "execute_result"
    }
   ],
   "source": [
    "from qiskit_textbook.widgets import binary_widget\n",
    "from qiskit import *\n",
    "from qiskit.tools.visualization import plot_histogram\n",
    "import ipywidgets\n",
    "ipywidgets.__version__\n",
    "binary_widget(nbits=6)\n",
    "\n",
    "print (\"_________________________________________________________________________________________________________\")\n",
    "\n",
    "qc_output = QuantumCircuit(8)\n",
    "qc_output.measure_all()\n",
    "qc_output.draw(initial_state=True)  # inially all are 0\n"
   ]
  },
  {
   "cell_type": "code",
   "execution_count": 2,
   "metadata": {},
   "outputs": [
    {
     "name": "stdout",
     "output_type": "stream",
     "text": [
      "_________________________________________________________________________________________________________\n"
     ]
    },
    {
     "data": {
      "image/png": "[encoded data removed]",
      "text/plain": [
       "<Figure size 504x360 with 1 Axes>"
      ]
     },
     "execution_count": 2,
     "metadata": {},
     "output_type": "execute_result"
    }
   ],
   "source": [
    "print (\"_________________________________________________________________________________________________________\")\n",
    "\n",
    "\n",
    "sim = Aer.get_backend('aer_simulator') \n",
    "result = sim.run(qc_output).result()\n",
    "counts = result.get_counts()\n",
    "plot_histogram(counts)"
   ]
  },
  {
   "cell_type": "code",
   "execution_count": 11,
   "metadata": {},
   "outputs": [
    {
     "data": {
      "text/html": [
       "<pre style=\"word-wrap: normal;white-space: pre;background: #fff0;line-height: 1.1;font-family: &quot;Courier New&quot;,Courier,monospace\">          \n",
       "q_0: ─────\n",
       "          \n",
       "q_1: ─────\n",
       "          \n",
       "q_2: ─────\n",
       "          \n",
       "q_3: ─────\n",
       "          \n",
       "q_4: ─────\n",
       "          \n",
       "q_5: ─────\n",
       "          \n",
       "q_6: ─────\n",
       "     ┌───┐\n",
       "q_7: ┤ X ├\n",
       "     └───┘</pre>"
      ],
      "text/plain": [
       "          \n",
       "q_0: ─────\n",
       "          \n",
       "q_1: ─────\n",
       "          \n",
       "q_2: ─────\n",
       "          \n",
       "q_3: ─────\n",
       "          \n",
       "q_4: ─────\n",
       "          \n",
       "q_5: ─────\n",
       "          \n",
       "q_6: ─────\n",
       "     ┌───┐\n",
       "q_7: ┤ X ├\n",
       "     └───┘"
      ]
     },
     "execution_count": 11,
     "metadata": {},
     "output_type": "execute_result"
    }
   ],
   "source": [
    "qc_encode2 = QuantumCircuit(8)\n",
    "qc_encode2.x(7)\n",
    "qc_encode2.draw()\n"
   ]
  },
  {
   "cell_type": "code",
   "execution_count": 12,
   "metadata": {},
   "outputs": [
    {
     "data": {
      "text/html": [
       "<pre style=\"word-wrap: normal;white-space: pre;background: #fff0;line-height: 1.1;font-family: &quot;Courier New&quot;,Courier,monospace\">                ░ ┌─┐                     \n",
       "  q_0: |0>──────░─┤M├─────────────────────\n",
       "                ░ └╥┘┌─┐                  \n",
       "  q_1: |0>──────░──╫─┤M├──────────────────\n",
       "                ░  ║ └╥┘┌─┐               \n",
       "  q_2: |0>──────░──╫──╫─┤M├───────────────\n",
       "                ░  ║  ║ └╥┘┌─┐            \n",
       "  q_3: |0>──────░──╫──╫──╫─┤M├────────────\n",
       "                ░  ║  ║  ║ └╥┘┌─┐         \n",
       "  q_4: |0>──────░──╫──╫──╫──╫─┤M├─────────\n",
       "                ░  ║  ║  ║  ║ └╥┘┌─┐      \n",
       "  q_5: |0>──────░──╫──╫──╫──╫──╫─┤M├──────\n",
       "                ░  ║  ║  ║  ║  ║ └╥┘┌─┐   \n",
       "  q_6: |0>──────░──╫──╫──╫──╫──╫──╫─┤M├───\n",
       "          ┌───┐ ░  ║  ║  ║  ║  ║  ║ └╥┘┌─┐\n",
       "  q_7: |0>┤ X ├─░──╫──╫──╫──╫──╫──╫──╫─┤M├\n",
       "          └───┘ ░  ║  ║  ║  ║  ║  ║  ║ └╥┘\n",
       "meas: 0 8/═════════╩══╩══╩══╩══╩══╩══╩══╩═\n",
       "                   0  1  2  3  4  5  6  7 </pre>"
      ],
      "text/plain": [
       "                ░ ┌─┐                     \n",
       "  q_0: |0>──────░─┤M├─────────────────────\n",
       "                ░ └╥┘┌─┐                  \n",
       "  q_1: |0>──────░──╫─┤M├──────────────────\n",
       "                ░  ║ └╥┘┌─┐               \n",
       "  q_2: |0>──────░──╫──╫─┤M├───────────────\n",
       "                ░  ║  ║ └╥┘┌─┐            \n",
       "  q_3: |0>──────░──╫──╫──╫─┤M├────────────\n",
       "                ░  ║  ║  ║ └╥┘┌─┐         \n",
       "  q_4: |0>──────░──╫──╫──╫──╫─┤M├─────────\n",
       "                ░  ║  ║  ║  ║ └╥┘┌─┐      \n",
       "  q_5: |0>──────░──╫──╫──╫──╫──╫─┤M├──────\n",
       "                ░  ║  ║  ║  ║  ║ └╥┘┌─┐   \n",
       "  q_6: |0>──────░──╫──╫──╫──╫──╫──╫─┤M├───\n",
       "          ┌───┐ ░  ║  ║  ║  ║  ║  ║ └╥┘┌─┐\n",
       "  q_7: |0>┤ X ├─░──╫──╫──╫──╫──╫──╫──╫─┤M├\n",
       "          └───┘ ░  ║  ║  ║  ║  ║  ║  ║ └╥┘\n",
       "meas: 0 8/═════════╩══╩══╩══╩══╩══╩══╩══╩═\n",
       "                   0  1  2  3  4  5  6  7 "
      ]
     },
     "execution_count": 12,
     "metadata": {},
     "output_type": "execute_result"
    }
   ],
   "source": [
    "\n",
    "qc_encode2.measure_all()\n",
    "qc_encode2.draw(initial_state=True)"
   ]
  },
  {
   "cell_type": "code",
   "execution_count": 13,
   "metadata": {},
   "outputs": [
    {
     "data": {
      "image/png": "[encoded data removed]",
      "text/plain": [
       "<Figure size 504x360 with 1 Axes>"
      ]
     },
     "execution_count": 13,
     "metadata": {},
     "output_type": "execute_result"
    }
   ],
   "source": [
    "sim = Aer.get_backend('aer_simulator') \n",
    "result = sim.run(qc_encode2).result()\n",
    "counts = result.get_counts()\n",
    "plot_histogram(counts)"
   ]
  },
  {
   "cell_type": "code",
   "execution_count": 14,
   "metadata": {},
   "outputs": [
    {
     "data": {
      "text/html": [
       "<pre style=\"word-wrap: normal;white-space: pre;background: #fff0;line-height: 1.1;font-family: &quot;Courier New&quot;,Courier,monospace\">     ┌───┐\n",
       "q_0: ┤ X ├\n",
       "     ├───┤\n",
       "q_1: ┤ X ├\n",
       "     └───┘\n",
       "q_2: ─────\n",
       "     ┌───┐\n",
       "q_3: ┤ X ├\n",
       "     ├───┤\n",
       "q_4: ┤ X ├\n",
       "     └───┘\n",
       "q_5: ─────\n",
       "          \n",
       "q_6: ─────\n",
       "          \n",
       "q_7: ─────\n",
       "          </pre>"
      ],
      "text/plain": [
       "     ┌───┐\n",
       "q_0: ┤ X ├\n",
       "     ├───┤\n",
       "q_1: ┤ X ├\n",
       "     └───┘\n",
       "q_2: ─────\n",
       "     ┌───┐\n",
       "q_3: ┤ X ├\n",
       "     ├───┤\n",
       "q_4: ┤ X ├\n",
       "     └───┘\n",
       "q_5: ─────\n",
       "          \n",
       "q_6: ─────\n",
       "          \n",
       "q_7: ─────\n",
       "          "
      ]
     },
     "execution_count": 14,
     "metadata": {},
     "output_type": "execute_result"
    }
   ],
   "source": [
    "qc_encode3 = QuantumCircuit(8)\n",
    "qc_encode3.x(0)\n",
    "qc_encode3.x(1)\n",
    "qc_encode3.x(3)\n",
    "qc_encode3.x(4)\n",
    "\n",
    "qc_encode3.draw()"
   ]
  },
  {
   "cell_type": "code",
   "execution_count": 16,
   "metadata": {},
   "outputs": [
    {
     "data": {
      "text/html": [
       "<pre style=\"word-wrap: normal;white-space: pre;background: #fff0;line-height: 1.1;font-family: &quot;Courier New&quot;,Courier,monospace\">          ┌───┐ ░ ┌─┐                     \n",
       "  q_0: |0>┤ X ├─░─┤M├─────────────────────\n",
       "          ├───┤ ░ └╥┘┌─┐                  \n",
       "  q_1: |0>┤ X ├─░──╫─┤M├──────────────────\n",
       "          └───┘ ░  ║ └╥┘┌─┐               \n",
       "  q_2: |0>──────░──╫──╫─┤M├───────────────\n",
       "          ┌───┐ ░  ║  ║ └╥┘┌─┐            \n",
       "  q_3: |0>┤ X ├─░──╫──╫──╫─┤M├────────────\n",
       "          ├───┤ ░  ║  ║  ║ └╥┘┌─┐         \n",
       "  q_4: |0>┤ X ├─░──╫──╫──╫──╫─┤M├─────────\n",
       "          └───┘ ░  ║  ║  ║  ║ └╥┘┌─┐      \n",
       "  q_5: |0>──────░──╫──╫──╫──╫──╫─┤M├──────\n",
       "                ░  ║  ║  ║  ║  ║ └╥┘┌─┐   \n",
       "  q_6: |0>──────░──╫──╫──╫──╫──╫──╫─┤M├───\n",
       "                ░  ║  ║  ║  ║  ║  ║ └╥┘┌─┐\n",
       "  q_7: |0>──────░──╫──╫──╫──╫──╫──╫──╫─┤M├\n",
       "                ░  ║  ║  ║  ║  ║  ║  ║ └╥┘\n",
       "meas: 0 8/═════════╩══╩══╩══╩══╩══╩══╩══╩═\n",
       "                   0  1  2  3  4  5  6  7 </pre>"
      ],
      "text/plain": [
       "          ┌───┐ ░ ┌─┐                     \n",
       "  q_0: |0>┤ X ├─░─┤M├─────────────────────\n",
       "          ├───┤ ░ └╥┘┌─┐                  \n",
       "  q_1: |0>┤ X ├─░──╫─┤M├──────────────────\n",
       "          └───┘ ░  ║ └╥┘┌─┐               \n",
       "  q_2: |0>──────░──╫──╫─┤M├───────────────\n",
       "          ┌───┐ ░  ║  ║ └╥┘┌─┐            \n",
       "  q_3: |0>┤ X ├─░──╫──╫──╫─┤M├────────────\n",
       "          ├───┤ ░  ║  ║  ║ └╥┘┌─┐         \n",
       "  q_4: |0>┤ X ├─░──╫──╫──╫──╫─┤M├─────────\n",
       "          └───┘ ░  ║  ║  ║  ║ └╥┘┌─┐      \n",
       "  q_5: |0>──────░──╫──╫──╫──╫──╫─┤M├──────\n",
       "                ░  ║  ║  ║  ║  ║ └╥┘┌─┐   \n",
       "  q_6: |0>──────░──╫──╫──╫──╫──╫──╫─┤M├───\n",
       "                ░  ║  ║  ║  ║  ║  ║ └╥┘┌─┐\n",
       "  q_7: |0>──────░──╫──╫──╫──╫──╫──╫──╫─┤M├\n",
       "                ░  ║  ║  ║  ║  ║  ║  ║ └╥┘\n",
       "meas: 0 8/═════════╩══╩══╩══╩══╩══╩══╩══╩═\n",
       "                   0  1  2  3  4  5  6  7 "
      ]
     },
     "execution_count": 16,
     "metadata": {},
     "output_type": "execute_result"
    }
   ],
   "source": [
    "qc_encode3.measure_all()\n",
    "qc_encode3.draw(initial_state=True)"
   ]
  },
  {
   "cell_type": "code",
   "execution_count": 17,
   "metadata": {},
   "outputs": [
    {
     "data": {
      "image/png": "[encoded data removed]",
      "text/plain": [
       "<Figure size 504x360 with 1 Axes>"
      ]
     },
     "execution_count": 17,
     "metadata": {},
     "output_type": "execute_result"
    }
   ],
   "source": [
    "sim = Aer.get_backend('aer_simulator') \n",
    "result = sim.run(qc_encode3).result()\n",
    "counts = result.get_counts()\n",
    "plot_histogram(counts)"
   ]
  },
  {
   "cell_type": "code",
   "execution_count": 21,
   "metadata": {},
   "outputs": [
    {
     "data": {
      "image/png": "[encoded data removed]",
      "text/plain": [
       "<Figure size 327.252x204.68 with 1 Axes>"
      ]
     },
     "execution_count": 21,
     "metadata": {},
     "output_type": "execute_result"
    }
   ],
   "source": [
    "qc = QuantumCircuit(2,2)\n",
    "qc.x(0)\n",
    "qc.cx(0,1)\n",
    "qc.measure(0,0)\n",
    "qc.measure(1,1)\n",
    "qc.draw(output='mpl') "
   ]
  },
  {
   "cell_type": "code",
   "execution_count": 28,
   "metadata": {},
   "outputs": [
    {
     "data": {
      "image/png": "[encoded data removed]",
      "text/plain": [
       "<Figure size 504x360 with 1 Axes>"
      ]
     },
     "execution_count": 28,
     "metadata": {},
     "output_type": "execute_result"
    }
   ],
   "source": [
    "sim = Aer.get_backend('aer_simulator') \n",
    "result = sim.run(qc).result()\n",
    "counts = result.get_counts()\n",
    "plot_histogram(counts)"
   ]
  },
  {
   "cell_type": "code",
   "execution_count": 34,
   "metadata": {},
   "outputs": [
    {
     "data": {
      "image/png": "[encoded data removed]",
      "text/plain": [
       "<Figure size 507.997x325.08 with 1 Axes>"
      ]
     },
     "execution_count": 34,
     "metadata": {},
     "output_type": "execute_result"
    }
   ],
   "source": [
    "qc_ha = QuantumCircuit(4,2)\n",
    "# encode inputs in qubits 0 and 1\n",
    "qc_ha.x(0) # For a=0, remove this line. For a=1, leave it.\n",
    "qc_ha.x(1) # For b=0, remove this line. For b=1, leave it.\n",
    "qc_ha.barrier()\n",
    "# use cnots to write the XOR of the inputs on qubit 2\n",
    "qc_ha.cx(0,2)\n",
    "qc_ha.cx(1,2)\n",
    "qc_ha.barrier()\n",
    "# extract outputs\n",
    "qc_ha.measure(2,0) # extract XOR value\n",
    "qc_ha.measure(3,1)\n",
    "\n",
    "qc_ha.draw(output='mpl')"
   ]
  },
  {
   "cell_type": "code",
   "execution_count": 35,
   "metadata": {},
   "outputs": [
    {
     "data": {
      "image/png": "[encoded data removed]",
      "text/plain": [
       "<Figure size 504x360 with 1 Axes>"
      ]
     },
     "execution_count": 35,
     "metadata": {},
     "output_type": "execute_result"
    }
   ],
   "source": [
    "sim = Aer.get_backend('aer_simulator') \n",
    "result = sim.run(qc_ha).result()\n",
    "counts = result.get_counts()\n",
    "plot_histogram(counts)"
   ]
  },
  {
   "cell_type": "code",
   "execution_count": null,
   "metadata": {},
   "outputs": [],
   "source": []
  }
 ],
 "metadata": {
  "kernelspec": {
   "display_name": "Python 3",
   "language": "python",
   "name": "python3"
  },
  "language_info": {
   "codemirror_mode": {
    "name": "ipython",
    "version": 3
   },
   "file_extension": ".py",
   "mimetype": "text/x-python",
   "name": "python",
   "nbconvert_exporter": "python",
   "pygments_lexer": "ipython3",
   "version": "3.8.10"
  }
 },
 "nbformat": 4,
 "nbformat_minor": 4
}
